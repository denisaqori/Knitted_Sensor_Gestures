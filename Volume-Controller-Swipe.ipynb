{
 "cells": [
  {
   "cell_type": "code",
   "execution_count": 13,
   "metadata": {
    "pycharm": {
     "is_executing": false,
     "name": "#%%\n"
    }
   },
   "outputs": [
    {
     "name": "stdout",
     "output_type": "stream",
     "text": [
      "Reading csv volume controller swipe files...\n",
      "Data directory: C:\\GitHub\\Knitted_Sensor_Gestures\\Resources\\volume_slider_swipes\\p001\n",
      "\n",
      "Filename:  C:\\GitHub\\Knitted_Sensor_Gestures\\Resources\\volume_slider_swipes\\p001\\volumeslider_swipe000_velocity_acceleration_data.csv\n",
      "Filename:  C:\\GitHub\\Knitted_Sensor_Gestures\\Resources\\volume_slider_swipes\\p001\\volumeslider_swipe001_velocity_acceleration_data.csv\n",
      "Filename:  C:\\GitHub\\Knitted_Sensor_Gestures\\Resources\\volume_slider_swipes\\p001\\volumeslider_swipe002_velocity_acceleration_data.csv\n",
      "Filename:  C:\\GitHub\\Knitted_Sensor_Gestures\\Resources\\volume_slider_swipes\\p001\\volumeslider_swipe003_velocity_acceleration_data.csv\n",
      "Filename:  C:\\GitHub\\Knitted_Sensor_Gestures\\Resources\\volume_slider_swipes\\p001\\volumeslider_swipe004_velocity_acceleration_data.csv\n",
      "Filename:  C:\\GitHub\\Knitted_Sensor_Gestures\\Resources\\volume_slider_swipes\\p001\\volumeslider_swipe005_velocity_acceleration_data.csv\n",
      "Filename:  C:\\GitHub\\Knitted_Sensor_Gestures\\Resources\\volume_slider_swipes\\p001\\volumeslider_swipe006_velocity_acceleration_data.csv\n",
      "Filename:  C:\\GitHub\\Knitted_Sensor_Gestures\\Resources\\volume_slider_swipes\\p001\\volumeslider_swipe007_velocity_acceleration_data.csv\n",
      "Filename:  C:\\GitHub\\Knitted_Sensor_Gestures\\Resources\\volume_slider_swipes\\p001\\volumeslider_swipe008_velocity_acceleration_data.csv\n",
      "Filename:  C:\\GitHub\\Knitted_Sensor_Gestures\\Resources\\volume_slider_swipes\\p001\\volumeslider_swipe009_velocity_acceleration_data.csv\n",
      "Filename:  C:\\GitHub\\Knitted_Sensor_Gestures\\Resources\\volume_slider_swipes\\p001\\volumeslider_swipe010_velocity_acceleration_data.csv\n",
      "Filename:  C:\\GitHub\\Knitted_Sensor_Gestures\\Resources\\volume_slider_swipes\\p001\\volumeslider_swipe011_velocity_acceleration_data.csv\n",
      "Filename:  C:\\GitHub\\Knitted_Sensor_Gestures\\Resources\\volume_slider_swipes\\p001\\volumeslider_swipe012_velocity_acceleration_data.csv\n",
      "Filename:  C:\\GitHub\\Knitted_Sensor_Gestures\\Resources\\volume_slider_swipes\\p001\\volumeslider_swipe013_velocity_acceleration_data.csv\n",
      "Filename:  C:\\GitHub\\Knitted_Sensor_Gestures\\Resources\\volume_slider_swipes\\p001\\volumeslider_swipe014_velocity_acceleration_data.csv\n",
      "Filename:  C:\\GitHub\\Knitted_Sensor_Gestures\\Resources\\volume_slider_swipes\\p001\\volumeslider_swipe015_velocity_acceleration_data.csv\n",
      "Filename:  C:\\GitHub\\Knitted_Sensor_Gestures\\Resources\\volume_slider_swipes\\p001\\volumeslider_swipe016_velocity_acceleration_data.csv\n",
      "Filename:  C:\\GitHub\\Knitted_Sensor_Gestures\\Resources\\volume_slider_swipes\\p001\\volumeslider_swipe017_velocity_acceleration_data.csv\n",
      "Filename:  C:\\GitHub\\Knitted_Sensor_Gestures\\Resources\\volume_slider_swipes\\p001\\volumeslider_swipe018_velocity_acceleration_data.csv\n",
      "Filename:  C:\\GitHub\\Knitted_Sensor_Gestures\\Resources\\volume_slider_swipes\\p001\\volumeslider_swipe019_velocity_acceleration_data.csv\n",
      "Filename:  C:\\GitHub\\Knitted_Sensor_Gestures\\Resources\\volume_slider_swipes\\p001\\volumeslider_swipe020_velocity_acceleration_data.csv\n",
      "Filename:  C:\\GitHub\\Knitted_Sensor_Gestures\\Resources\\volume_slider_swipes\\p001\\volumeslider_swipe021_velocity_acceleration_data.csv\n",
      "Filename:  C:\\GitHub\\Knitted_Sensor_Gestures\\Resources\\volume_slider_swipes\\p001\\volumeslider_swipe022_velocity_acceleration_data.csv\n",
      "Filename:  C:\\GitHub\\Knitted_Sensor_Gestures\\Resources\\volume_slider_swipes\\p001\\volumeslider_swipe023_velocity_acceleration_data.csv\n",
      "Filename:  C:\\GitHub\\Knitted_Sensor_Gestures\\Resources\\volume_slider_swipes\\p001\\volumeslider_swipe024_velocity_acceleration_data.csv\n",
      "Filename:  C:\\GitHub\\Knitted_Sensor_Gestures\\Resources\\volume_slider_swipes\\p001\\volumeslider_swipe025_velocity_acceleration_data.csv\n",
      "\n",
      "Data array shape: (26, 1000, 4)\n",
      "\n"
     ]
    }
   ],
   "source": [
    "%matplotlib widget\n",
    "from typing import Tuple, List, Optional\n",
    "import re\n",
    "import os\n",
    "import matplotlib.pyplot as plt\n",
    "import seaborn as sns\n",
    "import numpy as np\n",
    "from os.path import abspath, dirname, join\n",
    "\n",
    "from mpl_toolkits.mplot3d import Axes3D\n",
    "# from ipywidgets import widgets\n",
    "\n",
    "\n",
    "def load_files(specific_path: str) -> Tuple[np.ndarray, str]:\n",
    "    \"\"\"\n",
    "    Loads \".csv\" files from the specified subfolder of the Resources in the form of a numpy array. \n",
    "    \n",
    "    Args:\n",
    "        specific_path (str): The subfolder path where the data to be loaded is found\n",
    "    Returns: \n",
    "        data_array (np.ndarray): An array of shape <bun samples x num. time samples x num attributes>. In this case,\n",
    "                                      the attributes are: gain A, gain B, velocity, acceleration.\n",
    "    \"\"\"\n",
    "    print(\"Reading csv volume controller swipe files...\")\n",
    "    all_rsc_path = join(os.getcwd(), \"Resources\")\n",
    "    data_dirpath = os.path.abspath(os.path.join(all_rsc_path, specific_path))\n",
    "    print(f\"Data directory: {data_dirpath}\\n\")\n",
    "    \n",
    "    data_ls = []\n",
    "    labels = []\n",
    "    for filename in os.listdir(data_dirpath):\n",
    "        if filename.endswith(\".csv\"):\n",
    "            # split the filename into the name part and the extension part\n",
    "            name, extension = os.path.splitext(filename)\n",
    "            filepath = os.path.join(data_dirpath, filename)\n",
    "            filedata = _get_file_data(filepath)\n",
    "            data_ls.append(filedata)\n",
    "    \n",
    "            # extract swipe sample number from the filename\n",
    "            swipe_num_str = name[name.find(\"0\"): name.find(\"_velocity\")]\n",
    "            labels.append(swipe_num_str)\n",
    "            \n",
    "    data_array = np.stack(data_ls, axis=0)\n",
    "    print(f\"\\nData array shape: {data_array.shape}\\n\")\n",
    "    return data_array, labels\n",
    "\n",
    "def _get_file_data(filepath: str) -> np.ndarray:\n",
    "    \"\"\"\n",
    "    Obtain the data in the give file, potentially filtering out some rows and columns.\n",
    "\n",
    "    Args:\n",
    "        filepath (str): the path to the file whose data is to be extracted\n",
    "    Returns:\n",
    "        file_lines (np.ndarray): the extracted data from the given file\n",
    "    \"\"\"\n",
    "    with open(filepath, encoding='ascii') as f:\n",
    "        # get the data in each file by first stripping and splitting the lines and\n",
    "        # then creating a numpy array out of these values\n",
    "        file_lines = []\n",
    "        print(\"Filename: \", filepath)\n",
    "        for line in f:\n",
    "            line = line.strip(' \\t\\n\\r')\n",
    "            line = re.split('\\t|,', line)\n",
    "            file_lines.append(line)\n",
    "        file_lines = np.asarray(file_lines)\n",
    "\n",
    "        # keep info only from the relevant columns and rows - in this case get everything\n",
    "        file_lines = (file_lines[:]).astype(np.float32)\n",
    "        return file_lines\n",
    "\n",
    "specific_path = \"volume_slider_swipes\\p001\"\n",
    "data_array, labels = load_files (specific_path)"
   ]
  },
  {
   "cell_type": "code",
   "execution_count": 14,
   "metadata": {
    "pycharm": {
     "is_executing": false
    }
   },
   "outputs": [],
   "source": [
    "def define_plot_env(fig, title: str, ax_labels: List[str]) -> Axes3D: \n",
    "    \"\"\"\n",
    "    Creates the axis on which to plot. \n",
    "    \n",
    "    Args:\n",
    "        fig: The figure object that will contain this axis\n",
    "        title: The title of the plot\n",
    "        ax_labels: The labels of each of the three axis \n",
    "\n",
    "    Returns:\n",
    "\n",
    "    \"\"\"\n",
    "    sns.set(context='notebook', style='darkgrid', palette='pastel', font='sans-serif', font_scale=1,\n",
    "            color_codes=True,\n",
    "            rc=None)\n",
    "    # fig = plt.figure(figsize=(10, 9))\n",
    "    ax = fig.add_subplot(111, projection='3d')\n",
    "\n",
    "    plt.title(title, fontsize=12)\n",
    "    sns.axes_style(\"white\")\n",
    "    \n",
    "    ax.xaxis.set_major_locator(plt.MaxNLocator(5))\n",
    "    ax.yaxis.set_major_locator(plt.MaxNLocator(5))\n",
    "    ax.zaxis.set_major_locator(plt.MaxNLocator(5))\n",
    "    \n",
    "    ax.set_xlabel(ax_labels[0], fontsize=10, labelpad=8)\n",
    "    ax.set_ylabel(ax_labels[1], fontsize=10, labelpad=8)\n",
    "    ax.set_zlabel(ax_labels[2], fontsize=10, labelpad=8)\n",
    "    return ax\n"
   ]
  },
  {
   "cell_type": "code",
   "execution_count": 15,
   "metadata": {
    "pycharm": {
     "is_executing": false,
     "name": "#%%\n"
    },
    "scrolled": false
   },
   "outputs": [
    {
     "data": {
      "application/vnd.jupyter.widget-view+json": {
       "model_id": "073d1b5885b545179a70d9f63e16f2b5",
       "version_major": 2,
       "version_minor": 0
      },
      "text/plain": [
       "Canvas(toolbar=Toolbar(toolitems=[('Home', 'Reset original view', 'home', 'home'), ('Back', 'Back to previous …"
      ]
     },
     "metadata": {},
     "output_type": "display_data"
    }
   ],
   "source": [
    "#TODO: pass as a parameter the number of sample to plot, or plot all in one\n",
    "def plot_gains_time(all_data: np.ndarray, labels: List[str], filter: Optional[List[int]] = None) -> None:\n",
    "    \"\"\"\n",
    "    Plots the gain values over time for several swipe samples.\n",
    "    \n",
    "    Args:\n",
    "        all_data: All swipe data in numpy array format of shape <number of samples/instances x \n",
    "                  number of time steps x number of attributes (gain A, gain B, velocity, acceleration))> \n",
    "        labels: The ids of the swipe samples\n",
    "        filter: If this argument is set, it plots only the swipe lines specified. By default it is set to None, so the \n",
    "                function plots all the swipe data. Otherwise, a list of int elements to expected, corresponding to the identities \n",
    "                of swipes to be plotted.  \n",
    "    \"\"\"\n",
    "    # prepare axis\n",
    "    fig = plt.figure(figsize=(10, 9))\n",
    "    title = \"Gain Trajectory over Time\"\n",
    "    ax_labels = [\"Time\", \"Gain A\", \"Gain B\"]\n",
    "    ax = define_plot_env(fig, title, ax_labels)\n",
    "    \n",
    "    # determine number of samples to plot\n",
    "    if filter is None:\n",
    "        idx = range(0, all_data.shape[0])\n",
    "    else:\n",
    "        idx = filter\n",
    "        \n",
    "    x = np.arange(0, all_data.shape[1]) \n",
    "    for i in idx:\n",
    "        sample = all_data[i, :, :]\n",
    "\n",
    "        y = sample[:, 0] # gain A\n",
    "        z = sample[:, 1] # gain B\n",
    "        line, = ax.plot(x, y, z)\n",
    "        line.set_label(labels[i])\n",
    "\n",
    "    plt.legend(loc='center left', bbox_to_anchor=(1, 0.5), ncol=1, fancybox=True, shadow=True)  \n",
    "    plt.show()\n",
    "\n",
    "# filter_gains_time = [5, 8, 11, 18, 25] # change this for samples to plot, or set to None to plot all samples\n",
    "filter_gains_time = None\n",
    "plot_gains_time(data_array, labels, filter_gains_time)\n"
   ]
  },
  {
   "cell_type": "code",
   "execution_count": 16,
   "metadata": {
    "pycharm": {
     "is_executing": false,
     "name": "#%%\n"
    }
   },
   "outputs": [
    {
     "data": {
      "application/vnd.jupyter.widget-view+json": {
       "model_id": "19701acc04084d0ea486b702b0a0295e",
       "version_major": 2,
       "version_minor": 0
      },
      "text/plain": [
       "Canvas(toolbar=Toolbar(toolitems=[('Home', 'Reset original view', 'home', 'home'), ('Back', 'Back to previous …"
      ]
     },
     "metadata": {},
     "output_type": "display_data"
    }
   ],
   "source": [
    "def plot_gains_vel(all_data: np.ndarray, labels: List[str], filter: Optional[List[int]] = None) -> None:\n",
    "    \"\"\"\n",
    "    Plots the gain values with the related particle velocity over time for several swipe samples.\n",
    "    \n",
    "    Args:\n",
    "        all_data: All swipe data in numpy array format of shape <number of samples/instances x \n",
    "                  number of time steps x number of attributes (gain A, gain B, velocity, acceleration))> \n",
    "        labels: The ids of the swipe samples\n",
    "        filter: If this argument is set, it plots only the swipe lines specified. By default it is set to None, so the \n",
    "                function plots all the swipe data. Otherwise, a list of int elements to expected, corresponding to the identities \n",
    "                of swipes to be plotted.  \n",
    "    \"\"\"\n",
    "    # define plotting axis\n",
    "    fig = plt.figure(figsize=(10, 9))\n",
    "    title = \"Gain Trajectory vs Velocity\"\n",
    "    ax_labels = [\"Gain A\", \"Gain B\", \"Velocity\"]\n",
    "    ax = define_plot_env(fig, title, ax_labels)\n",
    "    \n",
    "    # determine the number of samples to plot\n",
    "    if filter is None:\n",
    "        idx = range(0, all_data.shape[0])\n",
    "    else:\n",
    "        idx = filter\n",
    "    \n",
    "    for i in idx: \n",
    "        sample = all_data[i, :, :]\n",
    "        x = sample[:, 0]\n",
    "        y = sample[:, 1]\n",
    "        z = sample[:, 2]\n",
    "    \n",
    "        line, = ax.plot(x, y, z)\n",
    "        line.set_label(labels[i])\n",
    "    \n",
    "    plt.legend(loc='center left', bbox_to_anchor=(1, 0.5), ncol=1, fancybox=True, shadow=True)  \n",
    "    plt.show()\n",
    "\n",
    "# filter_gains_vel = [5, 8, 11, 17, 25]\n",
    "filter_gains_vel = None\n",
    "plot_gains_vel(data_array, labels, filter_gains_vel)\n",
    "\n",
    "\n"
   ]
  },
  {
   "cell_type": "code",
   "execution_count": 17,
   "metadata": {
    "pycharm": {
     "is_executing": false
    }
   },
   "outputs": [
    {
     "data": {
      "application/vnd.jupyter.widget-view+json": {
       "model_id": "a41e7ef73cef48d3829980a205a4634d",
       "version_major": 2,
       "version_minor": 0
      },
      "text/plain": [
       "Canvas(toolbar=Toolbar(toolitems=[('Home', 'Reset original view', 'home', 'home'), ('Back', 'Back to previous …"
      ]
     },
     "metadata": {},
     "output_type": "display_data"
    }
   ],
   "source": [
    "def plot_gains_acc(all_data: np.ndarray, labels: List[str], filter: Optional[List[int]] = None) -> None:\n",
    "    \"\"\"\n",
    "    Plots the gain values with the related particle acceleration for several swipe samples.\n",
    "    \n",
    "    Args:\n",
    "        all_data: All swipe data in numpy array format of shape <number of samples/instances x \n",
    "                  number of time steps x number of attributes (gain A, gain B, velocity, acceleration))> \n",
    "        labels: The ids of the swipe samples\n",
    "        filter: If this argument is set, it plots only the swipe lines specified. By default it is set to None, so the \n",
    "                function plots all the swipe data. Otherwise, a list of int elements to expected, corresponding to the identities \n",
    "                of swipes to be plotted.  \n",
    "    \"\"\"\n",
    "      \n",
    "    # define plotting axis\n",
    "    fig = plt.figure(figsize=(10, 9))\n",
    "    title = \"Gain Trajectory vs Acceleration\"\n",
    "    ax_labels = [\"Gain A\", \"Gain B\", \"Acceleration\"]\n",
    "    ax = define_plot_env(fig, title, ax_labels)\n",
    "    \n",
    "    # determine the number of samples to plot\n",
    "    if filter is None:\n",
    "        idx = range(0, all_data.shape[0])\n",
    "    else:\n",
    "        idx = filter\n",
    "    \n",
    "    for i in idx: \n",
    "        sample = all_data[i, :, :]\n",
    "        x = sample[:, 0]\n",
    "        y = sample[:, 1]\n",
    "        z = sample[:, 3]\n",
    "    \n",
    "        line, = ax.plot(x, y, z)\n",
    "        line.set_label(labels[i])\n",
    "    \n",
    "    plt.legend(loc='center left', bbox_to_anchor=(1, 0.5), ncol=1, fancybox=True, shadow=True)  \n",
    "    plt.show()\n",
    "\n",
    "# filter_gains_acc = [5, 8, 11, 17, 25]\n",
    "filter_gains_acc = None\n",
    "plot_gains_acc(data_array, labels, filter_gains_acc)\n"
   ]
  },
  {
   "cell_type": "code",
   "execution_count": 18,
   "metadata": {
    "pycharm": {
     "is_executing": false
    }
   },
   "outputs": [
    {
     "data": {
      "application/vnd.jupyter.widget-view+json": {
       "model_id": "2a4a594e65f544deb2b16b4f8865ebd3",
       "version_major": 2,
       "version_minor": 0
      },
      "text/plain": [
       "Canvas(toolbar=Toolbar(toolitems=[('Home', 'Reset original view', 'home', 'home'), ('Back', 'Back to previous …"
      ]
     },
     "metadata": {},
     "output_type": "display_data"
    }
   ],
   "source": [
    "def plot_time_gainA_vel(all_data: np.ndarray, labels: List[str], filter: Optional[List[int]] = None) -> None:\n",
    "    \"\"\"\n",
    "    Plots the values of gain A and the particle motion velocity over time for several swipe samples.\n",
    "    \n",
    "    Args:\n",
    "        all_data: All swipe data in numpy array format of shape <number of samples/instances x \n",
    "                  number of time steps x number of attributes (gain A, gain B, velocity, acceleration))> \n",
    "        labels: The ids of the swipe samples\n",
    "        filter: If this argument is set, it plots only the swipe lines specified. By default it is set to None, so the \n",
    "                function plots all the swipe data. Otherwise, a list of int elements to expected, corresponding to the identities \n",
    "                of swipes to be plotted.  \n",
    "    \"\"\"\n",
    "    \n",
    "    # define plotting axis\n",
    "    fig = plt.figure(figsize=(10, 9))\n",
    "    title = \"Gain A Value and Velocity over Time\"\n",
    "    ax_labels = [\"Time\", \"Gain A\", \"Velocity\"]\n",
    "    ax = define_plot_env(fig, title, ax_labels)\n",
    "    \n",
    "    # determine the number of samples to plot\n",
    "    if filter is None:\n",
    "        idx = range(0, all_data.shape[0])\n",
    "    else:\n",
    "        idx = filter\n",
    "    \n",
    "    x = np.arange(0, all_data.shape[1])\n",
    "    for i in idx: \n",
    "        sample = all_data[i, :, :]\n",
    "        y = sample[:, 0]\n",
    "        z = sample[:, 2]\n",
    "    \n",
    "        line, = ax.plot(x, y, z)\n",
    "        line.set_label(labels[i])\n",
    "    \n",
    "    plt.legend(loc='center left', bbox_to_anchor=(1, 0.5), ncol=1, fancybox=True, shadow=True)  \n",
    "    plt.show()\n",
    "\n",
    "# filter_gains_acc = [5, 8, 11, 17, 25]\n",
    "filter_time_gainA_vel = None\n",
    "plot_time_gainA_vel(data_array, labels, filter_time_gainA_vel)\n",
    "\n"
   ]
  },
  {
   "cell_type": "code",
   "execution_count": 19,
   "metadata": {
    "pycharm": {
     "is_executing": false
    }
   },
   "outputs": [
    {
     "data": {
      "application/vnd.jupyter.widget-view+json": {
       "model_id": "8d4192a05bca40638d524d736d35574b",
       "version_major": 2,
       "version_minor": 0
      },
      "text/plain": [
       "Canvas(toolbar=Toolbar(toolitems=[('Home', 'Reset original view', 'home', 'home'), ('Back', 'Back to previous …"
      ]
     },
     "metadata": {},
     "output_type": "display_data"
    }
   ],
   "source": [
    "\n",
    "def plot_time_gainB_vel(all_data: np.ndarray, labels: List[str], filter: Optional[List[int]] = None) -> None:\n",
    "    \"\"\"\n",
    "    Plots the values of gain B and the particle motion velocity over time for several swipe samples.\n",
    "    \n",
    "    Args:\n",
    "        all_data: All swipe data in numpy array format of shape <number of samples/instances x \n",
    "                               number of time steps x number of attributes (gain A, gain B, velocity, acceleration))> \n",
    "        labels: The ids of the swipe samples\n",
    "        filter: If this argument is set, it plots only the swipe lines specified. By default it is set to None, so the \n",
    "                function plots all the swipe data. Otherwise, a list of int elements to expected, corresponding to the identities \n",
    "                of swipes to be plotted.  \n",
    "    \"\"\"\n",
    "    \n",
    "    # define plotting axis\n",
    "    fig = plt.figure(figsize=(10, 9))\n",
    "    title = \"Gain B Value and Velocity over Time\"\n",
    "    ax_labels = [\"Time\", \"Gain B\", \"Velocity\"]\n",
    "    ax = define_plot_env(fig, title, ax_labels)\n",
    "    \n",
    "    # determine the number of samples to plot\n",
    "    if filter is None:\n",
    "        idx = range(0, all_data.shape[0])\n",
    "    else:\n",
    "        idx = filter\n",
    "    \n",
    "    x = np.arange(0, all_data.shape[1])\n",
    "    for i in idx: \n",
    "        sample = all_data[i, :, :]\n",
    "        y = sample[:, 1]\n",
    "        z = sample[:, 2]\n",
    "    \n",
    "        line, = ax.plot(x, y, z)\n",
    "        line.set_label(labels[i])\n",
    "    \n",
    "    plt.legend(loc='center left', bbox_to_anchor=(1, 0.5), ncol=1, fancybox=True, shadow=True)  \n",
    "    plt.show()\n",
    "\n",
    "# filter_gains_acc = [5, 8, 11, 17, 25]\n",
    "filter_time_gainB_vel = None\n",
    "plot_time_gainB_vel(data_array, labels, filter_time_gainB_vel)\n"
   ]
  },
  {
   "cell_type": "code",
   "execution_count": 7,
   "metadata": {
    "pycharm": {
     "is_executing": false
    }
   },
   "outputs": [],
   "source": []
  }
 ],
 "metadata": {
  "kernelspec": {
   "display_name": "Python 3",
   "language": "python",
   "name": "python3"
  },
  "language_info": {
   "codemirror_mode": {
    "name": "ipython",
    "version": 3
   },
   "file_extension": ".py",
   "mimetype": "text/x-python",
   "name": "python",
   "nbconvert_exporter": "python",
   "pygments_lexer": "ipython3",
   "version": "3.6.3"
  },
  "pycharm": {
   "stem_cell": {
    "cell_type": "raw",
    "metadata": {
     "collapsed": false
    },
    "source": []
   }
  }
 },
 "nbformat": 4,
 "nbformat_minor": 4
}
